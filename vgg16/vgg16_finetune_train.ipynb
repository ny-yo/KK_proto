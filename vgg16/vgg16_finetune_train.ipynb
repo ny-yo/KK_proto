{
  "nbformat": 4,
  "nbformat_minor": 0,
  "metadata": {
    "colab": {
      "name": "vgg16_finetune_train.ipynb",
      "provenance": [],
      "collapsed_sections": [],
      "machine_shape": "hm",
      "authorship_tag": "ABX9TyM5lUIJRfy4jV3N0w2Co8fr",
      "include_colab_link": true
    },
    "kernelspec": {
      "name": "python3",
      "display_name": "Python 3"
    },
    "language_info": {
      "name": "python"
    },
    "accelerator": "GPU"
  },
  "cells": [
    {
      "cell_type": "markdown",
      "metadata": {
        "id": "view-in-github",
        "colab_type": "text"
      },
      "source": [
        "<a href=\"https://colab.research.google.com/github/ny-yo/KK_proto/blob/main/vgg16/vgg16_finetune_train.ipynb\" target=\"_parent\"><img src=\"https://colab.research.google.com/assets/colab-badge.svg\" alt=\"Open In Colab\"/></a>"
      ]
    },
    {
      "cell_type": "markdown",
      "metadata": {
        "id": "55J_4KucNY7C"
      },
      "source": [
        "#vgg16をfinetuneして犬猫の画像分類するpythonプログラム (trainパート)  \n",
        "#下記を参考  \n",
        "#https://qiita.com/yottyann1221/items/20a9c8a7a02edc7cd3d1"
      ]
    },
    {
      "cell_type": "markdown",
      "metadata": {
        "id": "onCu5nWENzni"
      },
      "source": [
        "Google Driveをマウント"
      ]
    },
    {
      "cell_type": "code",
      "metadata": {
        "colab": {
          "base_uri": "https://localhost:8080/"
        },
        "id": "2WeqYFZPEBW2",
        "outputId": "57c46dfa-f2af-4bcb-bc56-99fc3697d0a3"
      },
      "source": [
        "from google.colab import drive #インポート\n",
        "drive.mount('/content/drive/') #GoogleDriveのマウント"
      ],
      "execution_count": 1,
      "outputs": [
        {
          "output_type": "stream",
          "text": [
            "Mounted at /content/drive/\n"
          ],
          "name": "stdout"
        }
      ]
    },
    {
      "cell_type": "markdown",
      "metadata": {
        "id": "neo0PZMbN4lr"
      },
      "source": [
        "ライブラリの読み込み"
      ]
    },
    {
      "cell_type": "code",
      "metadata": {
        "id": "fbxxo_CCENmz"
      },
      "source": [
        "import os\n",
        "from keras.applications.vgg16 import VGG16\n",
        "from keras.preprocessing.image import ImageDataGenerator\n",
        "from keras.models import Sequential, Model\n",
        "from keras.layers import Input, Activation, Dropout, Flatten, Dense\n",
        "from keras.preprocessing.image import ImageDataGenerator\n",
        "from keras import optimizers\n",
        "import numpy as np\n",
        "import time"
      ],
      "execution_count": 2,
      "outputs": []
    },
    {
      "cell_type": "markdown",
      "metadata": {
        "id": "RfqmcBjfN6pi"
      },
      "source": [
        "事前に設定するパラメータ"
      ]
    },
    {
      "cell_type": "code",
      "metadata": {
        "id": "t_fxjC96ESUT"
      },
      "source": [
        "# 分類するクラス\n",
        "classes = [\"cat\", \"dog\"]\n",
        "nb_classes = len(classes)\n",
        "#画像の大きさを設定\n",
        "img_width, img_height = 150, 150\n",
        "\n",
        "# トレーニング用とバリデーション用の画像格納先（パスは自分で設定してください）\n",
        "train_data_dir = '/content/drive/MyDrive/KK_proto/fine_tune/train'\n",
        "validation_data_dir = '/content/drive/MyDrive/KK_proto/fine_tune/valid'\n",
        "\n",
        "#steps_per_epoch = len(X_train)//batch_size\n",
        "#https://stackoverflow.com/questions/59864408/tensorflowyour-input-ran-out-of-data\n",
        "nb_train_samples = 32\n",
        "nb_validation_samples = 12\n",
        "#バッチサイズ\n",
        "batch_size = 32\n",
        "#エポック数\n",
        "nb_epoch = 20"
      ],
      "execution_count": 3,
      "outputs": []
    },
    {
      "cell_type": "markdown",
      "metadata": {
        "id": "3-FQ166HN-Wj"
      },
      "source": [
        "トレーンング用、バリデーション用データを生成するジェネレータ作成"
      ]
    },
    {
      "cell_type": "code",
      "metadata": {
        "id": "FzHJrgDyLiZ8"
      },
      "source": [
        "# トレーンング用、バリデーション用データを生成するジェネレータ作成\n",
        "train_datagen = ImageDataGenerator(\n",
        "  rescale=1.0 / 255,\n",
        "  #すでに画像の水増し済みの方は、下記２行は必要ありません。\n",
        "  #zoom_range=0.2,\n",
        "  #horizontal_flip=True\n",
        ")\n",
        "\n",
        "validation_datagen = ImageDataGenerator(rescale=1.0 / 255)"
      ],
      "execution_count": 4,
      "outputs": []
    },
    {
      "cell_type": "code",
      "metadata": {
        "colab": {
          "base_uri": "https://localhost:8080/"
        },
        "id": "FJm_QWbPLpP6",
        "outputId": "9efc7120-2294-4c71-983d-a6e5057f2106"
      },
      "source": [
        "train_generator = train_datagen.flow_from_directory(\n",
        "  train_data_dir,\n",
        "  target_size=(img_width, img_height),\n",
        "  color_mode='rgb',\n",
        "  classes=classes,\n",
        "  class_mode='categorical',\n",
        "  batch_size=batch_size,\n",
        "  shuffle=True)\n",
        "\n",
        "validation_generator = validation_datagen.flow_from_directory(\n",
        "  validation_data_dir,\n",
        "  target_size=(img_width, img_height),\n",
        "  color_mode='rgb',\n",
        "  classes=classes,\n",
        "  class_mode='categorical',\n",
        "  batch_size=batch_size,\n",
        "  shuffle=True)"
      ],
      "execution_count": 5,
      "outputs": [
        {
          "output_type": "stream",
          "text": [
            "Found 2000 images belonging to 2 classes.\n",
            "Found 800 images belonging to 2 classes.\n"
          ],
          "name": "stdout"
        }
      ]
    },
    {
      "cell_type": "markdown",
      "metadata": {
        "id": "nMSqJztxOCGL"
      },
      "source": [
        "モデルの構築"
      ]
    },
    {
      "cell_type": "code",
      "metadata": {
        "colab": {
          "base_uri": "https://localhost:8080/"
        },
        "id": "2Scual9mNXAi",
        "outputId": "947c77e6-a74c-4687-ad83-527b08d3b92f"
      },
      "source": [
        "# VGG16のロード。FC層は不要なので include_top=False\n",
        "input_tensor = Input(shape=(img_width, img_height, 3))\n",
        "vgg16 = VGG16(include_top=False, weights='imagenet', input_tensor=input_tensor)\n",
        "\n",
        "# VGG16の図の緑色の部分（FC層）の作成\n",
        "top_model = Sequential()\n",
        "top_model.add(Flatten(input_shape=vgg16.output_shape[1:]))\n",
        "top_model.add(Dense(256, activation='relu'))\n",
        "top_model.add(Dropout(0.5))\n",
        "top_model.add(Dense(nb_classes, activation='softmax'))\n",
        "\n",
        "# VGG16とFC層を結合してモデルを作成（完成図が上の図）\n",
        "vgg_model = Model(vgg16.input, top_model(vgg16.output))\n",
        "\n",
        "# VGG16の図の青色の部分は重みを固定（frozen）\n",
        "for layer in vgg_model.layers[:15]:\n",
        "    layer.trainable = False\n",
        "\n",
        "# 多クラス分類を指定\n",
        "vgg_model.compile(loss='categorical_crossentropy',\n",
        "          optimizer=optimizers.SGD(lr=1e-3, momentum=0.9),\n",
        "          metrics=['accuracy'])"
      ],
      "execution_count": 6,
      "outputs": [
        {
          "output_type": "stream",
          "text": [
            "Downloading data from https://storage.googleapis.com/tensorflow/keras-applications/vgg16/vgg16_weights_tf_dim_ordering_tf_kernels_notop.h5\n",
            "58892288/58889256 [==============================] - 1s 0us/step\n",
            "58900480/58889256 [==============================] - 1s 0us/step\n"
          ],
          "name": "stdout"
        },
        {
          "output_type": "stream",
          "text": [
            "/usr/local/lib/python3.7/dist-packages/tensorflow/python/keras/optimizer_v2/optimizer_v2.py:375: UserWarning: The `lr` argument is deprecated, use `learning_rate` instead.\n",
            "  \"The `lr` argument is deprecated, use `learning_rate` instead.\")\n"
          ],
          "name": "stderr"
        }
      ]
    },
    {
      "cell_type": "markdown",
      "metadata": {
        "id": "KoAN7gadOEvM"
      },
      "source": [
        "モデルの学習"
      ]
    },
    {
      "cell_type": "code",
      "metadata": {
        "colab": {
          "base_uri": "https://localhost:8080/"
        },
        "id": "XB5ywuXGNxp6",
        "outputId": "9f3d9337-6287-4ba3-af9b-c8eb30e8537c"
      },
      "source": [
        "# Fine-tuning\n",
        "history = vgg_model.fit_generator(\n",
        "    train_generator,\n",
        "    steps_per_epoch=nb_train_samples,\n",
        "    epochs=nb_epoch,\n",
        "    validation_data=validation_generator,\n",
        "    validation_steps=nb_validation_samples\n",
        "    )"
      ],
      "execution_count": 7,
      "outputs": [
        {
          "output_type": "stream",
          "text": [
            "/usr/local/lib/python3.7/dist-packages/keras/engine/training.py:1915: UserWarning: `Model.fit_generator` is deprecated and will be removed in a future version. Please use `Model.fit`, which supports generators.\n",
            "  warnings.warn('`Model.fit_generator` is deprecated and '\n"
          ],
          "name": "stderr"
        },
        {
          "output_type": "stream",
          "text": [
            "Epoch 1/20\n",
            "32/32 [==============================] - 479s 14s/step - loss: 0.7391 - accuracy: 0.6132 - val_loss: 0.3540 - val_accuracy: 0.8333\n",
            "Epoch 2/20\n",
            "32/32 [==============================] - 235s 7s/step - loss: 0.2969 - accuracy: 0.8718 - val_loss: 0.2059 - val_accuracy: 0.9219\n",
            "Epoch 3/20\n",
            "32/32 [==============================] - 103s 3s/step - loss: 0.2306 - accuracy: 0.9160 - val_loss: 0.2133 - val_accuracy: 0.9193\n",
            "Epoch 4/20\n",
            "32/32 [==============================] - 53s 2s/step - loss: 0.1707 - accuracy: 0.9354 - val_loss: 0.2136 - val_accuracy: 0.9062\n",
            "Epoch 5/20\n",
            "32/32 [==============================] - 31s 966ms/step - loss: 0.1060 - accuracy: 0.9720 - val_loss: 0.2070 - val_accuracy: 0.9271\n",
            "Epoch 6/20\n",
            "32/32 [==============================] - 13s 428ms/step - loss: 0.1652 - accuracy: 0.9352 - val_loss: 0.1850 - val_accuracy: 0.9323\n",
            "Epoch 7/20\n",
            "32/32 [==============================] - 11s 348ms/step - loss: 0.1244 - accuracy: 0.9586 - val_loss: 0.2995 - val_accuracy: 0.8542\n",
            "Epoch 8/20\n",
            "32/32 [==============================] - 8s 262ms/step - loss: 0.1390 - accuracy: 0.9366 - val_loss: 0.1826 - val_accuracy: 0.9271\n",
            "Epoch 9/20\n",
            "32/32 [==============================] - 7s 211ms/step - loss: 0.0742 - accuracy: 0.9714 - val_loss: 0.1944 - val_accuracy: 0.9219\n",
            "Epoch 10/20\n",
            "32/32 [==============================] - 6s 204ms/step - loss: 0.0661 - accuracy: 0.9817 - val_loss: 0.1856 - val_accuracy: 0.9219\n",
            "Epoch 11/20\n",
            "32/32 [==============================] - 5s 161ms/step - loss: 0.0432 - accuracy: 0.9829 - val_loss: 0.2317 - val_accuracy: 0.9167\n",
            "Epoch 12/20\n",
            "32/32 [==============================] - 5s 145ms/step - loss: 0.0379 - accuracy: 0.9878 - val_loss: 0.1726 - val_accuracy: 0.9297\n",
            "Epoch 13/20\n",
            "32/32 [==============================] - 5s 147ms/step - loss: 0.0269 - accuracy: 0.9920 - val_loss: 0.1686 - val_accuracy: 0.9427\n",
            "Epoch 14/20\n",
            "32/32 [==============================] - 5s 147ms/step - loss: 0.0383 - accuracy: 0.9858 - val_loss: 0.2574 - val_accuracy: 0.9167\n",
            "Epoch 15/20\n",
            "32/32 [==============================] - 5s 145ms/step - loss: 0.0334 - accuracy: 0.9855 - val_loss: 0.1647 - val_accuracy: 0.9297\n",
            "Epoch 16/20\n",
            "32/32 [==============================] - 5s 144ms/step - loss: 0.0320 - accuracy: 0.9905 - val_loss: 0.2134 - val_accuracy: 0.9271\n",
            "Epoch 17/20\n",
            "32/32 [==============================] - 5s 145ms/step - loss: 0.0330 - accuracy: 0.9878 - val_loss: 0.2010 - val_accuracy: 0.9089\n",
            "Epoch 18/20\n",
            "32/32 [==============================] - 5s 144ms/step - loss: 0.0148 - accuracy: 0.9980 - val_loss: 0.2056 - val_accuracy: 0.9401\n",
            "Epoch 19/20\n",
            "32/32 [==============================] - 5s 145ms/step - loss: 0.0182 - accuracy: 0.9951 - val_loss: 0.2083 - val_accuracy: 0.9297\n",
            "Epoch 20/20\n",
            "32/32 [==============================] - 5s 150ms/step - loss: 0.0076 - accuracy: 0.9987 - val_loss: 0.2597 - val_accuracy: 0.9193\n"
          ],
          "name": "stdout"
        }
      ]
    },
    {
      "cell_type": "markdown",
      "metadata": {
        "id": "FqcD5JfGONBS"
      },
      "source": [
        "モデルの評価"
      ]
    },
    {
      "cell_type": "code",
      "metadata": {
        "id": "qCt0oEwoOPLt",
        "colab": {
          "base_uri": "https://localhost:8080/",
          "height": 279
        },
        "outputId": "2d6d4c30-4fdb-4cf4-db4c-a1405ec86bdc"
      },
      "source": [
        "# 学習結果を描写\n",
        "import matplotlib.pyplot as plt\n",
        "\n",
        "#acc, val_accのプロット\n",
        "plt.plot(history.history[\"accuracy\"], label=\"acc\", ls=\"-\", marker=\"o\")\n",
        "plt.plot(history.history[\"val_accuracy\"], label=\"val_acc\", ls=\"-\", marker=\"x\")\n",
        "plt.ylabel(\"accuracy\")\n",
        "plt.xlabel(\"epoch\")\n",
        "plt.legend(loc=\"best\")\n",
        "#Final.pngという名前で、結果を保存\n",
        "plt.savefig('Final.png')\n",
        "plt.show()"
      ],
      "execution_count": 8,
      "outputs": [
        {
          "output_type": "display_data",
          "data": {
            "image/png": "[encoded data removed]",
            "text/plain": [
              "<Figure size 432x288 with 1 Axes>"
            ]
          },
          "metadata": {
            "tags": [],
            "needs_background": "light"
          }
        }
      ]
    },
    {
      "cell_type": "markdown",
      "metadata": {
        "id": "vpuhxUZwAloz"
      },
      "source": [
        "モデルの重みを保存"
      ]
    },
    {
      "cell_type": "code",
      "metadata": {
        "id": "ciZHrs-QAke9"
      },
      "source": [
        "#resultsディレクトリを作成\n",
        "result_dir = '/content/drive/MyDrive/KK_proto/fine_tune/result'\n",
        "if not os.path.exists(result_dir):\n",
        "    os.mkdir(result_dir)\n",
        "\n",
        "# 重みを保存\n",
        "vgg_model.save_weights(os.path.join(result_dir, 'Final.h5'))\n",
        "\n",
        "# 作成したモデルを保存\n",
        "# vgg_model.save('VGGtake1.h5')"
      ],
      "execution_count": 9,
      "outputs": []
    }
  ]
}