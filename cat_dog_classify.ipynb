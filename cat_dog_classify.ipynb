{
  "nbformat": 4,
  "nbformat_minor": 0,
  "metadata": {
    "colab": {
      "name": "cat_dog_classify ",
      "provenance": [],
      "collapsed_sections": [],
      "machine_shape": "hm",
      "authorship_tag": "ABX9TyPG1Frc5K0eoekh68hBBB5u",
      "include_colab_link": true
    },
    "kernelspec": {
      "name": "python3",
      "display_name": "Python 3"
    },
    "language_info": {
      "name": "python"
    },
    "accelerator": "GPU"
  },
  "cells": [
    {
      "cell_type": "markdown",
      "metadata": {
        "id": "view-in-github",
        "colab_type": "text"
      },
      "source": [
        "<a href=\"https://colab.research.google.com/github/ny-yo/KK_proto/blob/main/cat_dog_classify.ipynb\" target=\"_parent\"><img src=\"https://colab.research.google.com/assets/colab-badge.svg\" alt=\"Open In Colab\"/></a>"
      ]
    },
    {
      "cell_type": "markdown",
      "metadata": {
        "id": "stD1t9AQFHkS"
      },
      "source": [
        "#犬と猫を分類するマルチラベル分類のモデルを作成"
      ]
    },
    {
      "cell_type": "markdown",
      "metadata": {
        "id": "A1HEqBD0-OWY"
      },
      "source": [
        "AI Academyの下記を参照した  \n",
        "https://aiacademy.jp/texts/show/?id=164"
      ]
    },
    {
      "cell_type": "markdown",
      "metadata": {
        "id": "psvwJfjxELJS"
      },
      "source": [
        "#google driveのマウント"
      ]
    },
    {
      "cell_type": "code",
      "metadata": {
        "colab": {
          "base_uri": "https://localhost:8080/"
        },
        "id": "J5o1x3D0_6xN",
        "outputId": "5622a2c8-2289-460c-ef18-45dcdba382b3"
      },
      "source": [
        "from google.colab import drive #インポート\n",
        "drive.mount('/content/drive/') #GoogleDriveのマウント"
      ],
      "execution_count": null,
      "outputs": [
        {
          "output_type": "stream",
          "text": [
            "Drive already mounted at /content/drive/; to attempt to forcibly remount, call drive.mount(\"/content/drive/\", force_remount=True).\n"
          ],
          "name": "stdout"
        }
      ]
    },
    {
      "cell_type": "markdown",
      "metadata": {
        "id": "AVGdp0OsESHJ"
      },
      "source": [
        "#画像収集ライブラリicawlerで画像データをダウンロード  -> 余計な画像もダウンロードされてしまうため推論の制度が悪い  \n",
        "#そのためkaggleの犬猫分類データセットを使うことにした\n",
        "bingだと動作したがgoogleimageだとダウンロードできず"
      ]
    },
    {
      "cell_type": "code",
      "metadata": {
        "colab": {
          "base_uri": "https://localhost:8080/"
        },
        "id": "ZbZANx02-VDj",
        "outputId": "d32e2bcd-dd6a-49e1-cd4e-b70f89242a31"
      },
      "source": [
        "#pythonの画像収集ライブラリ\n",
        "!pip install icrawler"
      ],
      "execution_count": null,
      "outputs": [
        {
          "output_type": "stream",
          "text": [
            "Requirement already satisfied: icrawler in /usr/local/lib/python3.7/dist-packages (0.6.6)\n",
            "Requirement already satisfied: six>=1.10.0 in /usr/local/lib/python3.7/dist-packages (from icrawler) (1.15.0)\n",
            "Requirement already satisfied: Pillow in /usr/local/lib/python3.7/dist-packages (from icrawler) (7.1.2)\n",
            "Requirement already satisfied: beautifulsoup4>=4.4.1 in /usr/local/lib/python3.7/dist-packages (from icrawler) (4.6.3)\n",
            "Requirement already satisfied: lxml in /usr/local/lib/python3.7/dist-packages (from icrawler) (4.2.6)\n",
            "Requirement already satisfied: requests>=2.9.1 in /usr/local/lib/python3.7/dist-packages (from icrawler) (2.23.0)\n",
            "Requirement already satisfied: urllib3!=1.25.0,!=1.25.1,<1.26,>=1.21.1 in /usr/local/lib/python3.7/dist-packages (from requests>=2.9.1->icrawler) (1.24.3)\n",
            "Requirement already satisfied: certifi>=2017.4.17 in /usr/local/lib/python3.7/dist-packages (from requests>=2.9.1->icrawler) (2021.5.30)\n",
            "Requirement already satisfied: chardet<4,>=3.0.2 in /usr/local/lib/python3.7/dist-packages (from requests>=2.9.1->icrawler) (3.0.4)\n",
            "Requirement already satisfied: idna<3,>=2.5 in /usr/local/lib/python3.7/dist-packages (from requests>=2.9.1->icrawler) (2.10)\n"
          ],
          "name": "stdout"
        }
      ]
    },
    {
      "cell_type": "code",
      "metadata": {
        "id": "wWoNSGaj-n3E"
      },
      "source": [
        "from icrawler.builtin import BingImageCrawler\n",
        "\n",
        "# 猫の画像を100枚取得\n",
        "#crawler = BingImageCrawler(storage={\"root_dir\": \"drive/MyDrive/KK_proto/images/cat\"})\n",
        "#crawler.crawl(keyword=\"猫\", max_num=1000)"
      ],
      "execution_count": null,
      "outputs": []
    },
    {
      "cell_type": "code",
      "metadata": {
        "id": "QJwdcZveAgwH"
      },
      "source": [
        "from icrawler.builtin import BingImageCrawler\n",
        "\n",
        "# 犬の画像を100枚取得\n",
        "#crawler = BingImageCrawler(storage={\"root_dir\": \"drive/MyDrive/KK_proto/images/dog\"})\n",
        "#crawler.crawl(keyword=\"犬\", max_num=1000)"
      ],
      "execution_count": null,
      "outputs": []
    },
    {
      "cell_type": "markdown",
      "metadata": {
        "id": "Z2sGa_NQECat"
      },
      "source": [
        "#データの整形と学習データの作成"
      ]
    },
    {
      "cell_type": "code",
      "metadata": {
        "colab": {
          "base_uri": "https://localhost:8080/"
        },
        "id": "l5pllrHQBa3v",
        "outputId": "7db92e71-64e8-423f-98a4-e6c1110f5521"
      },
      "source": [
        "from PIL import Image\n",
        "import os, glob\n",
        "import numpy as np\n",
        "from PIL import ImageFile\n",
        "# IOError: image file is truncated (0 bytes not processed)回避のため\n",
        "ImageFile.LOAD_TRUNCATED_IMAGES = True\n",
        "\n",
        "classes = [\"dog\", \"cat\"]\n",
        "num_classes = len(classes)\n",
        "image_size = 64\n",
        "num_testdata = 400\n",
        "\n",
        "X_train = []\n",
        "X_test  = []\n",
        "y_train = []\n",
        "y_test  = []\n",
        "\n",
        "for index, classlabel in enumerate(classes):\n",
        "    print(classlabel)\n",
        "    photos_dir = \"drive/MyDrive/KK_proto/kaggle_dataset/train_data/\" + classlabel\n",
        "    #print(photos_dir)\n",
        "    files = glob.glob(photos_dir + \"/*\")\n",
        "    #print(files)\n",
        "    for i, file in enumerate(files):\n",
        "        #print(file)\n",
        "        image = Image.open(file)\n",
        "        image = image.convert(\"RGB\")\n",
        "        image = image.resize((image_size, image_size))\n",
        "        data = np.asarray(image)\n",
        "        if i < num_testdata:\n",
        "            X_test.append(data)\n",
        "            y_test.append(index)\n",
        "        else:\n",
        "\n",
        "            # angleに代入される値\n",
        "            # -20\n",
        "            # -15\n",
        "            # -10\n",
        "            #  -5\n",
        "            # 0\n",
        "            # 5\n",
        "            # 10\n",
        "            # 15\n",
        "            # 画像を5度ずつ回転\n",
        "            for angle in range(-20, 20, 5):\n",
        "\n",
        "                img_r = image.rotate(angle)\n",
        "                data = np.asarray(img_r)\n",
        "                X_train.append(data)\n",
        "                y_train.append(index)\n",
        "                # FLIP_LEFT_RIGHT　は 左右反転\n",
        "                img_trains = img_r.transpose(Image.FLIP_LEFT_RIGHT)\n",
        "                data = np.asarray(img_trains)\n",
        "                X_train.append(data)\n",
        "                y_train.append(index)\n",
        "\n",
        "X_train = np.array(X_train)\n",
        "X_test  = np.array(X_test)\n",
        "y_train = np.array(y_train)\n",
        "y_test  = np.array(y_test)\n",
        "\n",
        "xy = (X_train, X_test, y_train, y_test)\n",
        "print(y_test)\n",
        "print(y_test.shape)\n",
        "np.save(\"drive/MyDrive/KK_proto/dog_cat.npy\", xy)"
      ],
      "execution_count": null,
      "outputs": [
        {
          "output_type": "stream",
          "text": [
            "dog\n",
            "cat\n",
            "[0 0 0 0 0 0 0 0 0 0 0 0 0 0 0 0 0 0 0 0 0 0 0 0 0 0 0 0 0 0 0 0 0 0 0 0 0\n",
            " 0 0 0 0 0 0 0 0 0 0 0 0 0 0 0 0 0 0 0 0 0 0 0 0 0 0 0 0 0 0 0 0 0 0 0 0 0\n",
            " 0 0 0 0 0 0 0 0 0 0 0 0 0 0 0 0 0 0 0 0 0 0 0 0 0 0 0 0 0 0 0 0 0 0 0 0 0\n",
            " 0 0 0 0 0 0 0 0 0 0 0 0 0 0 0 0 0 0 0 0 0 0 0 0 0 0 0 0 0 0 0 0 0 0 0 0 0\n",
            " 0 0 0 0 0 0 0 0 0 0 0 0 0 0 0 0 0 0 0 0 0 0 0 0 0 0 0 0 0 0 0 0 0 0 0 0 0\n",
            " 0 0 0 0 0 0 0 0 0 0 0 0 0 0 0 0 0 0 0 0 0 0 0 0 0 0 0 0 0 0 0 0 0 0 0 0 0\n",
            " 0 0 0 0 0 0 0 0 0 0 0 0 0 0 0 0 0 0 0 0 0 0 0 0 0 0 0 0 0 0 0 0 0 0 0 0 0\n",
            " 0 0 0 0 0 0 0 0 0 0 0 0 0 0 0 0 0 0 0 0 0 0 0 0 0 0 0 0 0 0 0 0 0 0 0 0 0\n",
            " 0 0 0 0 0 0 0 0 0 0 0 0 0 0 0 0 0 0 0 0 0 0 0 0 0 0 0 0 0 0 0 0 0 0 0 0 0\n",
            " 0 0 0 0 0 0 0 0 0 0 0 0 0 0 0 0 0 0 0 0 0 0 0 0 0 0 0 0 0 0 0 0 0 0 0 0 0\n",
            " 0 0 0 0 0 0 0 0 0 0 0 0 0 0 0 0 0 0 0 0 0 0 0 0 0 0 0 0 0 0 1 1 1 1 1 1 1\n",
            " 1 1 1 1 1 1 1 1 1 1 1 1 1 1 1 1 1 1 1 1 1 1 1 1 1 1 1 1 1 1 1 1 1 1 1 1 1\n",
            " 1 1 1 1 1 1 1 1 1 1 1 1 1 1 1 1 1 1 1 1 1 1 1 1 1 1 1 1 1 1 1 1 1 1 1 1 1\n",
            " 1 1 1 1 1 1 1 1 1 1 1 1 1 1 1 1 1 1 1 1 1 1 1 1 1 1 1 1 1 1 1 1 1 1 1 1 1\n",
            " 1 1 1 1 1 1 1 1 1 1 1 1 1 1 1 1 1 1 1 1 1 1 1 1 1 1 1 1 1 1 1 1 1 1 1 1 1\n",
            " 1 1 1 1 1 1 1 1 1 1 1 1 1 1 1 1 1 1 1 1 1 1 1 1 1 1 1 1 1 1 1 1 1 1 1 1 1\n",
            " 1 1 1 1 1 1 1 1 1 1 1 1 1 1 1 1 1 1 1 1 1 1 1 1 1 1 1 1 1 1 1 1 1 1 1 1 1\n",
            " 1 1 1 1 1 1 1 1 1 1 1 1 1 1 1 1 1 1 1 1 1 1 1 1 1 1 1 1 1 1 1 1 1 1 1 1 1\n",
            " 1 1 1 1 1 1 1 1 1 1 1 1 1 1 1 1 1 1 1 1 1 1 1 1 1 1 1 1 1 1 1 1 1 1 1 1 1\n",
            " 1 1 1 1 1 1 1 1 1 1 1 1 1 1 1 1 1 1 1 1 1 1 1 1 1 1 1 1 1 1 1 1 1 1 1 1 1\n",
            " 1 1 1 1 1 1 1 1 1 1 1 1 1 1 1 1 1 1 1 1 1 1 1 1 1 1 1 1 1 1 1 1 1 1 1 1 1\n",
            " 1 1 1 1 1 1 1 1 1 1 1 1 1 1 1 1 1 1 1 1 1 1 1]\n",
            "(800,)\n"
          ],
          "name": "stdout"
        },
        {
          "output_type": "stream",
          "text": [
            "/usr/local/lib/python3.7/dist-packages/numpy/core/_asarray.py:136: VisibleDeprecationWarning: Creating an ndarray from ragged nested sequences (which is a list-or-tuple of lists-or-tuples-or ndarrays with different lengths or shapes) is deprecated. If you meant to do this, you must specify 'dtype=object' when creating the ndarray\n",
            "  return array(a, dtype, copy=False, order=order, subok=True)\n"
          ],
          "name": "stderr"
        }
      ]
    },
    {
      "cell_type": "markdown",
      "metadata": {
        "id": "UPy_AQg_FCtC"
      },
      "source": [
        "#学習フェーズ"
      ]
    },
    {
      "cell_type": "code",
      "metadata": {
        "colab": {
          "base_uri": "https://localhost:8080/"
        },
        "id": "L_yv3mARE46F",
        "outputId": "b0c73764-915c-43b5-8212-092d91677a44"
      },
      "source": [
        "from keras.models import Sequential\n",
        "from keras.layers import Conv2D, MaxPooling2D\n",
        "from keras.layers import Activation, Dropout, Flatten, Dense\n",
        "from keras.optimizers import RMSprop\n",
        "from keras.utils import np_utils\n",
        "import keras\n",
        "import numpy as np\n",
        "\n",
        "classes = [\"dog\", \"cat\"]\n",
        "num_classes = len(classes)\n",
        "image_size = 64\n",
        "\n",
        "\"\"\"\n",
        "データを読み込む関数\n",
        "\"\"\"\n",
        "def load_data():\n",
        "    X_train, X_test, y_train, y_test = np.load(\"/content/drive/MyDrive/KK_proto/dog_cat.npy\", allow_pickle=True)\n",
        "    # 入力データの各画素値を0-1の範囲で正規化(学習コストを下げるため)\n",
        "    X_train = X_train.astype(\"float\") / 255\n",
        "    X_test  = X_test.astype(\"float\") / 255\n",
        "    # to_categorical()にてラベルをone hot vector化\n",
        "    y_train = np_utils.to_categorical(y_train, num_classes)\n",
        "    y_test  = np_utils.to_categorical(y_test, num_classes)\n",
        "\n",
        "    return X_train, y_train, X_test, y_test\n",
        "\n",
        "\"\"\"\n",
        "モデルを学習する関数\n",
        "\"\"\"\n",
        "def train(X, y, X_test, y_test):\n",
        "    model = Sequential()\n",
        "\n",
        "    # Xは(1200, 64, 64, 3)\n",
        "    # X.shape[1:]とすることで、(64, 64, 3)となり、入力にすることが可能です。\n",
        "    model.add(Conv2D(32,(3,3), padding='same',input_shape=X.shape[1:]))\n",
        "    model.add(Activation('relu'))\n",
        "    model.add(Conv2D(32,(3,3)))\n",
        "    model.add(Activation('relu'))\n",
        "    model.add(MaxPooling2D(pool_size=(2,2)))\n",
        "    model.add(Dropout(0.1))\n",
        "\n",
        "    model.add(Conv2D(64,(3,3), padding='same'))\n",
        "    model.add(Activation('relu'))\n",
        "    model.add(Conv2D(64,(3,3)))\n",
        "    model.add(Activation('relu'))\n",
        "    model.add(MaxPooling2D(pool_size=(2,2)))\n",
        "    model.add(Dropout(0.25))\n",
        "\n",
        "    model.add(Flatten())\n",
        "    model.add(Dense(512))\n",
        "    model.add(Activation('relu'))\n",
        "    model.add(Dropout(0.45))\n",
        "    model.add(Dense(2))\n",
        "    model.add(Activation('softmax'))\n",
        "\n",
        "    # https://keras.io/ja/optimizers/\n",
        "    # 今回は、最適化アルゴリズムにRMSpropを利用\n",
        "    opt = RMSprop(learning_rate=0.00005, decay=1e-6)\n",
        "    # https://keras.io/ja/models/sequential/\n",
        "    model.compile(loss='categorical_crossentropy',optimizer=opt,metrics=['accuracy'])\n",
        "    model.fit(X, y, batch_size=28, epochs=20)\n",
        "    # HDF5ファイルにKerasのモデルを保存\n",
        "    #model.save('./cnn.h5')\n",
        "    model.save('/content/drive/MyDrive/KK_proto/cnn.h5')\n",
        "\n",
        "    return model\n",
        "\n",
        "\"\"\"\n",
        "メイン関数\n",
        "データの読み込みとモデルの学習を行います。\n",
        "\"\"\"\n",
        "def main():\n",
        "    # データの読み込み\n",
        "    X_train, y_train, X_test, y_test = load_data()\n",
        "\n",
        "    # モデルの学習\n",
        "    model = train(X_train, y_train, X_test, y_test)\n",
        "\n",
        "main()"
      ],
      "execution_count": null,
      "outputs": [
        {
          "output_type": "stream",
          "text": [
            "Epoch 1/20\n",
            "1143/1143 [==============================] - 41s 9ms/step - loss: 0.6650 - accuracy: 0.5878\n",
            "Epoch 2/20\n",
            "1143/1143 [==============================] - 10s 8ms/step - loss: 0.5595 - accuracy: 0.7126\n",
            "Epoch 3/20\n",
            "1143/1143 [==============================] - 10s 8ms/step - loss: 0.4851 - accuracy: 0.7671\n",
            "Epoch 4/20\n",
            "1143/1143 [==============================] - 10s 8ms/step - loss: 0.4396 - accuracy: 0.7947\n",
            "Epoch 5/20\n",
            "1143/1143 [==============================] - 10s 8ms/step - loss: 0.4025 - accuracy: 0.8175\n",
            "Epoch 6/20\n",
            "1143/1143 [==============================] - 10s 9ms/step - loss: 0.3635 - accuracy: 0.8380\n",
            "Epoch 7/20\n",
            "1143/1143 [==============================] - 10s 9ms/step - loss: 0.3307 - accuracy: 0.8581\n",
            "Epoch 8/20\n",
            "1143/1143 [==============================] - 10s 9ms/step - loss: 0.2967 - accuracy: 0.8769\n",
            "Epoch 9/20\n",
            "1143/1143 [==============================] - 10s 8ms/step - loss: 0.2779 - accuracy: 0.8851\n",
            "Epoch 10/20\n",
            "1143/1143 [==============================] - 10s 9ms/step - loss: 0.2493 - accuracy: 0.8985\n",
            "Epoch 11/20\n",
            "1143/1143 [==============================] - 10s 8ms/step - loss: 0.2244 - accuracy: 0.9104\n",
            "Epoch 12/20\n",
            "1143/1143 [==============================] - 10s 9ms/step - loss: 0.2014 - accuracy: 0.9210\n",
            "Epoch 13/20\n",
            "1143/1143 [==============================] - 10s 8ms/step - loss: 0.1817 - accuracy: 0.9302\n",
            "Epoch 14/20\n",
            "1143/1143 [==============================] - 10s 8ms/step - loss: 0.1545 - accuracy: 0.9402\n",
            "Epoch 15/20\n",
            "1143/1143 [==============================] - 10s 9ms/step - loss: 0.1528 - accuracy: 0.9422\n",
            "Epoch 16/20\n",
            "1143/1143 [==============================] - 10s 8ms/step - loss: 0.1313 - accuracy: 0.9502\n",
            "Epoch 17/20\n",
            "1143/1143 [==============================] - 10s 9ms/step - loss: 0.1200 - accuracy: 0.9553\n",
            "Epoch 18/20\n",
            "1143/1143 [==============================] - 10s 8ms/step - loss: 0.1074 - accuracy: 0.9616\n",
            "Epoch 19/20\n",
            "1143/1143 [==============================] - 10s 8ms/step - loss: 0.0983 - accuracy: 0.9631\n",
            "Epoch 20/20\n",
            "1143/1143 [==============================] - 10s 8ms/step - loss: 0.0920 - accuracy: 0.9675\n"
          ],
          "name": "stdout"
        }
      ]
    },
    {
      "cell_type": "markdown",
      "metadata": {
        "id": "6hSG4ADTIGzH"
      },
      "source": [
        "#推論モデル\n",
        "テスト画像が犬or猫のどちらかを推論するモデル"
      ]
    },
    {
      "cell_type": "code",
      "metadata": {
        "colab": {
          "base_uri": "https://localhost:8080/"
        },
        "id": "C1gBbwAbIGLn",
        "outputId": "6f5ef3dc-ffb1-484a-8d03-cc41f2276c4b"
      },
      "source": [
        "import keras\n",
        "import sys, os\n",
        "import numpy as np\n",
        "from keras.models import load_model\n",
        "\n",
        "imsize = (64, 64)\n",
        "\n",
        "\"\"\"\n",
        "dog1.jpgというファイル名の画像をGoogle Colab上にアップロードする方法は2通りあります。\n",
        "1つが、下記のコードを実行し画像をアップロードする方法\n",
        "from google.colab import files\n",
        "uploaded = files.upload()\n",
        "2つが、Colab左メニューの>アイコンを押して、目次、コード スニペット、ファイル\n",
        "の3つ表示されるますが、右のファイルタブから画像をアップロードする方法です。\n",
        "このファイルタブをクリックするとアップロードと更新の2つがありますが、\n",
        "アップロードを押すと画像をアップロードすることが可能です。\n",
        "\"\"\"\n",
        "\n",
        "testpic     = \"/content/drive/MyDrive/KK_proto/11.jpg\"\n",
        "test_img_folder = \"/content/drive/MyDrive/KK_proto/kaggle_dataset/test_data/*\"\n",
        "keras_param = \"/content/drive/MyDrive/KK_proto/cnn.h5\"\n",
        "\n",
        "def load_image(path):\n",
        "    img = Image.open(path)\n",
        "    img = img.convert('RGB')\n",
        "    # 学習時に、(64, 64, 3)で学習したので、画像の縦・横は今回 変数imsizeの(64, 64)にリサイズします。\n",
        "    img = img.resize(imsize)\n",
        "    # 画像データをnumpy配列の形式に変更\n",
        "    img = np.asarray(img)\n",
        "    img = img / 255.0\n",
        "    return img\n",
        "\n",
        "#from google.colab import files\n",
        "#uploaded = files.upload()\n",
        "\n",
        "model = load_model(keras_param)\n",
        "dog_num = 0\n",
        "cat_num = 0\n",
        "file_num = 0\n",
        "\n",
        "files = glob.glob(test_img_folder)\n",
        "for file in files:\n",
        "    img = load_image(file)\n",
        "    prd = model.predict(np.array([img]))\n",
        "    print(prd) # 精度の表示\n",
        "    prelabel = np.argmax(prd, axis=1)\n",
        "    if prelabel == 0:\n",
        "        print(\">>> 犬  filename->%s\" % file)\n",
        "        dog_num += 1\n",
        "\n",
        "    elif prelabel == 1:\n",
        "        print(\">>> 猫  filename->%s\" % file)\n",
        "        cat_num += 1\n",
        "    file_num += 1\n",
        "\n",
        "print(\"result\")\n",
        "print(\"dog -> %f\" % (dog_num/file_num))\n",
        "print(\"cat -> %f\" % (cat_num/file_num))"
      ],
      "execution_count": null,
      "outputs": [
        {
          "output_type": "stream",
          "text": [
            "[[0.60652024 0.3934798 ]]\n",
            ">>> 犬  filename->/content/drive/MyDrive/KK_proto/kaggle_dataset/test_data/test_001.jpg\n",
            "[[0.21164265 0.7883574 ]]\n",
            ">>> 猫  filename->/content/drive/MyDrive/KK_proto/kaggle_dataset/test_data/53.jpg\n",
            "[[1.3624796e-07 9.9999988e-01]]\n",
            ">>> 猫  filename->/content/drive/MyDrive/KK_proto/kaggle_dataset/test_data/10.jpg\n",
            "[[1.5580007e-06 9.9999845e-01]]\n",
            ">>> 猫  filename->/content/drive/MyDrive/KK_proto/kaggle_dataset/test_data/37.jpg\n",
            "[[0.9967302  0.00326981]]\n",
            ">>> 犬  filename->/content/drive/MyDrive/KK_proto/kaggle_dataset/test_data/30.jpg\n",
            "[[3.6720826e-10 1.0000000e+00]]\n",
            ">>> 猫  filename->/content/drive/MyDrive/KK_proto/kaggle_dataset/test_data/38.jpg\n",
            "[[0.3013018  0.69869816]]\n",
            ">>> 猫  filename->/content/drive/MyDrive/KK_proto/kaggle_dataset/test_data/29.jpg\n",
            "[[1.548954e-08 1.000000e+00]]\n",
            ">>> 猫  filename->/content/drive/MyDrive/KK_proto/kaggle_dataset/test_data/35.jpg\n",
            "[[9.9967885e-01 3.2115536e-04]]\n",
            ">>> 犬  filename->/content/drive/MyDrive/KK_proto/kaggle_dataset/test_data/2.jpg\n",
            "[[0.99669194 0.00330804]]\n",
            ">>> 犬  filename->/content/drive/MyDrive/KK_proto/kaggle_dataset/test_data/27.jpg\n",
            "[[5.134312e-06 9.999949e-01]]\n",
            ">>> 猫  filename->/content/drive/MyDrive/KK_proto/kaggle_dataset/test_data/45.jpg\n",
            "[[0.98653203 0.01346804]]\n",
            ">>> 犬  filename->/content/drive/MyDrive/KK_proto/kaggle_dataset/test_data/48.jpg\n",
            "[[1.2031783e-06 9.9999881e-01]]\n",
            ">>> 猫  filename->/content/drive/MyDrive/KK_proto/kaggle_dataset/test_data/9.jpg\n",
            "[[0.9909266  0.00907333]]\n",
            ">>> 犬  filename->/content/drive/MyDrive/KK_proto/kaggle_dataset/test_data/8.jpg\n",
            "[[0.26052046 0.73947954]]\n",
            ">>> 猫  filename->/content/drive/MyDrive/KK_proto/kaggle_dataset/test_data/3.jpg\n",
            "[[0.08294987 0.9170501 ]]\n",
            ">>> 猫  filename->/content/drive/MyDrive/KK_proto/kaggle_dataset/test_data/1.jpg\n",
            "[[9.9938095e-01 6.1904552e-04]]\n",
            ">>> 犬  filename->/content/drive/MyDrive/KK_proto/kaggle_dataset/test_data/23.jpg\n",
            "[[0.99649376 0.00350621]]\n",
            ">>> 犬  filename->/content/drive/MyDrive/KK_proto/kaggle_dataset/test_data/24.jpg\n",
            "[[0.26752022 0.73247975]]\n",
            ">>> 猫  filename->/content/drive/MyDrive/KK_proto/kaggle_dataset/test_data/6.jpg\n",
            "[[0.31757015 0.68242985]]\n",
            ">>> 猫  filename->/content/drive/MyDrive/KK_proto/kaggle_dataset/test_data/12.jpg\n",
            "[[0.09665811 0.9033419 ]]\n",
            ">>> 猫  filename->/content/drive/MyDrive/KK_proto/kaggle_dataset/test_data/55.jpg\n",
            "[[0.00628684 0.9937132 ]]\n",
            ">>> 猫  filename->/content/drive/MyDrive/KK_proto/kaggle_dataset/test_data/22.jpg\n",
            "[[0.00513023 0.9948698 ]]\n",
            ">>> 猫  filename->/content/drive/MyDrive/KK_proto/kaggle_dataset/test_data/14.jpg\n",
            "[[0.0953681  0.90463185]]\n",
            ">>> 猫  filename->/content/drive/MyDrive/KK_proto/kaggle_dataset/test_data/13.jpg\n",
            "[[0.8703252  0.12967473]]\n",
            ">>> 犬  filename->/content/drive/MyDrive/KK_proto/kaggle_dataset/test_data/46.jpg\n",
            "[[0.24610847 0.7538915 ]]\n",
            ">>> 猫  filename->/content/drive/MyDrive/KK_proto/kaggle_dataset/test_data/54.jpg\n",
            "[[0.4369478 0.5630522]]\n",
            ">>> 猫  filename->/content/drive/MyDrive/KK_proto/kaggle_dataset/test_data/56.jpg\n",
            "[[0.59598446 0.4040155 ]]\n",
            ">>> 犬  filename->/content/drive/MyDrive/KK_proto/kaggle_dataset/test_data/44.jpg\n",
            "[[0.64563364 0.35436633]]\n",
            ">>> 犬  filename->/content/drive/MyDrive/KK_proto/kaggle_dataset/test_data/15.jpg\n",
            "[[0.98667216 0.01332776]]\n",
            ">>> 犬  filename->/content/drive/MyDrive/KK_proto/kaggle_dataset/test_data/21.jpg\n",
            "[[0.99605054 0.00394943]]\n",
            ">>> 犬  filename->/content/drive/MyDrive/KK_proto/kaggle_dataset/test_data/43.jpg\n",
            "[[8.6625e-13 1.0000e+00]]\n",
            ">>> 猫  filename->/content/drive/MyDrive/KK_proto/kaggle_dataset/test_data/28.jpg\n",
            "[[0.01297892 0.987021  ]]\n",
            ">>> 猫  filename->/content/drive/MyDrive/KK_proto/kaggle_dataset/test_data/36.jpg\n",
            "[[2.5933222e-08 1.0000000e+00]]\n",
            ">>> 猫  filename->/content/drive/MyDrive/KK_proto/kaggle_dataset/test_data/40.jpg\n",
            "[[9.9980885e-01 1.9122608e-04]]\n",
            ">>> 犬  filename->/content/drive/MyDrive/KK_proto/kaggle_dataset/test_data/31.jpg\n",
            "[[1.0000000e+00 6.9340116e-17]]\n",
            ">>> 犬  filename->/content/drive/MyDrive/KK_proto/kaggle_dataset/test_data/42.jpg\n",
            "[[1.0000000e+00 5.0252297e-08]]\n",
            ">>> 犬  filename->/content/drive/MyDrive/KK_proto/kaggle_dataset/test_data/57.jpg\n",
            "[[0.84867704 0.15132298]]\n",
            ">>> 犬  filename->/content/drive/MyDrive/KK_proto/kaggle_dataset/test_data/19.jpg\n",
            "[[0.5044202 0.4955798]]\n",
            ">>> 犬  filename->/content/drive/MyDrive/KK_proto/kaggle_dataset/test_data/51.jpg\n",
            "[[9.9994087e-01 5.9114496e-05]]\n",
            ">>> 犬  filename->/content/drive/MyDrive/KK_proto/kaggle_dataset/test_data/25.jpg\n",
            "[[0.8269243 0.1730757]]\n",
            ">>> 犬  filename->/content/drive/MyDrive/KK_proto/kaggle_dataset/test_data/26.jpg\n",
            "[[0.01637812 0.9836219 ]]\n",
            ">>> 猫  filename->/content/drive/MyDrive/KK_proto/kaggle_dataset/test_data/32.jpg\n",
            "[[3.0857766e-05 9.9996912e-01]]\n",
            ">>> 猫  filename->/content/drive/MyDrive/KK_proto/kaggle_dataset/test_data/17.jpg\n",
            "[[9.9948454e-01 5.1541330e-04]]\n",
            ">>> 犬  filename->/content/drive/MyDrive/KK_proto/kaggle_dataset/test_data/41.jpg\n",
            "[[0.05392455 0.94607544]]\n",
            ">>> 猫  filename->/content/drive/MyDrive/KK_proto/kaggle_dataset/test_data/33.jpg\n",
            "[[0.84551066 0.15448937]]\n",
            ">>> 犬  filename->/content/drive/MyDrive/KK_proto/kaggle_dataset/test_data/49.jpg\n",
            "[[4.2026924e-09 1.0000000e+00]]\n",
            ">>> 猫  filename->/content/drive/MyDrive/KK_proto/kaggle_dataset/test_data/7.jpg\n",
            "[[0.0037082 0.9962919]]\n",
            ">>> 猫  filename->/content/drive/MyDrive/KK_proto/kaggle_dataset/test_data/47.jpg\n",
            "[[7.0394233e-12 1.0000000e+00]]\n",
            ">>> 猫  filename->/content/drive/MyDrive/KK_proto/kaggle_dataset/test_data/11.jpg\n",
            "[[0.00175113 0.99824893]]\n",
            ">>> 猫  filename->/content/drive/MyDrive/KK_proto/kaggle_dataset/test_data/50.jpg\n",
            "[[1.0000000e+00 4.3196263e-08]]\n",
            ">>> 犬  filename->/content/drive/MyDrive/KK_proto/kaggle_dataset/test_data/18.jpg\n",
            "[[9.9906915e-01 9.3084009e-04]]\n",
            ">>> 犬  filename->/content/drive/MyDrive/KK_proto/kaggle_dataset/test_data/39.jpg\n",
            "[[1.000000e+00 6.139211e-17]]\n",
            ">>> 犬  filename->/content/drive/MyDrive/KK_proto/kaggle_dataset/test_data/4.jpg\n",
            "[[0.7429756 0.2570244]]\n",
            ">>> 犬  filename->/content/drive/MyDrive/KK_proto/kaggle_dataset/test_data/52.jpg\n",
            "[[1.605792e-05 9.999839e-01]]\n",
            ">>> 猫  filename->/content/drive/MyDrive/KK_proto/kaggle_dataset/test_data/16.jpg\n",
            "[[5.7937974e-08 1.0000000e+00]]\n",
            ">>> 猫  filename->/content/drive/MyDrive/KK_proto/kaggle_dataset/test_data/5.jpg\n",
            "[[5.137995e-06 9.999949e-01]]\n",
            ">>> 猫  filename->/content/drive/MyDrive/KK_proto/kaggle_dataset/test_data/20.jpg\n",
            "[[0.00642499 0.99357504]]\n",
            ">>> 猫  filename->/content/drive/MyDrive/KK_proto/kaggle_dataset/test_data/34.jpg\n",
            "[[0.9146133  0.08538671]]\n",
            ">>> 犬  filename->/content/drive/MyDrive/KK_proto/kaggle_dataset/test_data/59.jpg\n",
            "[[0.06154704 0.938453  ]]\n",
            ">>> 猫  filename->/content/drive/MyDrive/KK_proto/kaggle_dataset/test_data/58.jpg\n",
            "[[0.99503267 0.00496739]]\n",
            ">>> 犬  filename->/content/drive/MyDrive/KK_proto/kaggle_dataset/test_data/60.jpg\n",
            "result\n",
            "dog -> 0.459016\n",
            "cat -> 0.540984\n"
          ],
          "name": "stdout"
        }
      ]
    },
    {
      "cell_type": "code",
      "metadata": {
        "id": "x7ks2WPhJH5-"
      },
      "source": [
        ""
      ],
      "execution_count": null,
      "outputs": []
    }
  ]
}